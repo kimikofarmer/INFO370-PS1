{
 "cells": [
  {
   "cell_type": "markdown",
   "metadata": {
    "ein.tags": [
     "worksheet-0"
    ],
    "slideshow": {
     "slide_type": "-"
    }
   },
   "source": [
    "# Problem Set 1, due April 12th at 3:30 pm \n",
    "(in other words, it is due at the start of the class).\n",
    "\n",
    "### Before You Start\n",
    "For this problem set, you should download INF0371-PS1.ipynb from Canvas. Create a local copy of the notebook and rename it LASTNAME_FIRSTNAME-PS1.ipynb. Then edit your renamed file directly in your browser by typing:\n",
    "```\n",
    "ipython notebook <name_of_downloaded_file>\n",
    "```\n",
    "\n",
    "Make sure the following libraries load correctly (hit Ctrl-Enter).\n"
   ]
  },
  {
   "cell_type": "code",
   "execution_count": 10,
   "metadata": {
    "autoscroll": "json-false",
    "collapsed": false,
    "ein.tags": [
     "worksheet-0"
    ],
    "slideshow": {
     "slide_type": "-"
    }
   },
   "outputs": [
    {
     "name": "stdout",
     "output_type": "stream",
     "text": [
      "IPython version:       5.1.0 (need at least 1.0)\n",
      "Numpy version:        1.11.1 (need at least 1.7.1)\n",
      "SciPy version:        0.18.1 (need at least 0.12.0)\n",
      "Pandas version:       0.18.1 (need at least 0.11.0)\n",
      "Maplotlib version:     1.5.3 (need at least 1.2.1)\n",
      "Scikit-Learn version:   0.18 (need at least 0.13.1)\n"
     ]
    }
   ],
   "source": [
    "#IPython is what you are using now to run the notebook\n",
    "import IPython\n",
    "print (\"IPython version:      %6.6s (need at least 1.0)\" % IPython.__version__)\n",
    "\n",
    "# Numpy is a library for working with Arrays\n",
    "import numpy as np\n",
    "print (\"Numpy version:        %6.6s (need at least 1.7.1)\" % np.__version__)\n",
    "\n",
    "# SciPy implements many different numerical algorithms\n",
    "import scipy as sp\n",
    "print (\"SciPy version:        %6.6s (need at least 0.12.0)\" % sp.__version__)\n",
    "\n",
    "# Pandas makes working with data tables easier\n",
    "import pandas as pd\n",
    "print (\"Pandas version:       %6.6s (need at least 0.11.0)\" % pd.__version__)\n",
    "\n",
    "# Module for plotting\n",
    "import matplotlib\n",
    "print (\"Maplotlib version:    %6.6s (need at least 1.2.1)\" % matplotlib.__version__)\n",
    "\n",
    "# SciKit Learn implements several Machine Learning algorithms\n",
    "import sklearn\n",
    "print (\"Scikit-Learn version: %6.6s (need at least 0.13.1)\" % sklearn.__version__)"
   ]
  },
  {
   "cell_type": "markdown",
   "metadata": {
    "ein.tags": [
     "worksheet-0"
    ],
    "slideshow": {
     "slide_type": "-"
    }
   },
   "source": [
    "### Working in a group?\n",
    "List the names of other students with whom you worked on this problem set:\n",
    "- Marisa Nanakul"
   ]
  },
  {
   "cell_type": "markdown",
   "metadata": {
    "ein.tags": [
     "worksheet-0"
    ],
    "slideshow": {
     "slide_type": "-"
    }
   },
   "source": [
    "---\n",
    "\n",
    "## Introduction to the assignment\n",
    "\n",
    "For this assignment, you will be using the [Boston Housing Prices Data Set](http://archive.ics.uci.edu/ml/datasets/Housing).  Please read about the dataset carefully before continuing -- it is worth investing a few minutes up front otherwise you are likely to be hopelessly confused! Also, if you're new to analyzing data in Python, please make sure to read the relevant readings linked to on Canvas before beginning, otherwise you'll be stabbing in the dark.\n",
    "\n",
    "Use the following commands to load the dataset:"
   ]
  },
  {
   "cell_type": "code",
   "execution_count": 11,
   "metadata": {
    "autoscroll": "json-false",
    "collapsed": false,
    "ein.tags": [
     "worksheet-0"
    ],
    "slideshow": {
     "slide_type": "-"
    }
   },
   "outputs": [],
   "source": [
    "from sklearn.datasets import load_boston\n",
    "bdata = load_boston()"
   ]
  },
  {
   "cell_type": "markdown",
   "metadata": {
    "ein.tags": [
     "worksheet-0"
    ],
    "slideshow": {
     "slide_type": "-"
    }
   },
   "source": [
    "The following commands will provide some basic information about the shape of the data:"
   ]
  },
  {
   "cell_type": "code",
   "execution_count": 29,
   "metadata": {
    "autoscroll": "json-false",
    "collapsed": false,
    "ein.tags": [
     "worksheet-0"
    ],
    "slideshow": {
     "slide_type": "-"
    }
   },
   "outputs": [
    {
     "name": "stdout",
     "output_type": "stream",
     "text": [
      "dict_keys(['DESCR', 'feature_names', 'target', 'data'])\n",
      "['CRIM' 'ZN' 'INDUS' 'CHAS' 'NOX' 'RM' 'AGE' 'DIS' 'RAD' 'TAX' 'PTRATIO'\n",
      " 'B' 'LSTAT']\n",
      "(506, 13)\n",
      "(506,)\n"
     ]
    }
   ],
   "source": [
    "print (bdata.keys())\n",
    "print (bdata.feature_names)\n",
    "print (bdata.data.shape)\n",
    "print (bdata.target.shape)\n",
    "\n",
    "# uncomment the following if you want to see a lengthy description of the dataset\n",
    "# print (bdata.DESCR)"
   ]
  },
  {
   "cell_type": "code",
   "execution_count": 13,
   "metadata": {
    "autoscroll": "json-false",
    "collapsed": false,
    "ein.tags": [
     "worksheet-0"
    ],
    "slideshow": {
     "slide_type": "-"
    }
   },
   "outputs": [],
   "source": [
    "boston = pd.DataFrame(bdata.data)"
   ]
  },
  {
   "cell_type": "code",
   "execution_count": 14,
   "metadata": {
    "autoscroll": "json-false",
    "collapsed": false,
    "ein.tags": [
     "worksheet-0"
    ],
    "slideshow": {
     "slide_type": "-"
    }
   },
   "outputs": [
    {
     "name": "stdout",
     "output_type": "stream",
     "text": [
      "(506, 13)\n"
     ]
    }
   ],
   "source": [
    "boston.columns = bdata.feature_names[:]\n",
    "print (boston.shape)"
   ]
  },
  {
   "cell_type": "markdown",
   "metadata": {
    "ein.tags": [
     "worksheet-0"
    ],
    "slideshow": {
     "slide_type": "-"
    }
   },
   "source": [
    "---\n",
    "\n",
    "## Part 1: Descriptive analysis\n",
    "\n",
    "### 1.1: Explore the data\n",
    "\n",
    "Let's dig into the data a bit to see what we're dealing with. The first thing to do is to make sure you understand how the data is organized, what the data types are, whether there is any missing data, and so forth. Get your bearings on your own, then answer the following questions.\n",
    "\n",
    " - 1.1.1: How many different variables are there in the dataset, and how many different observations?\n",
    " - 1.1.2: How many instances are classified as neighborhoods where the tract bounds the Charles River? \n",
    " - 1.1.3: Show that dataset does not contain any missing values.\n",
    " - 1.1.4: Display the property tax rate in the 5 neighborhoods that have the highest median housing price."
   ]
  },
  {
   "cell_type": "code",
   "execution_count": 16,
   "metadata": {
    "autoscroll": "json-false",
    "collapsed": false,
    "ein.tags": [
     "worksheet-0"
    ],
    "slideshow": {
     "slide_type": "-"
    }
   },
   "outputs": [
    {
     "name": "stdout",
     "output_type": "stream",
     "text": [
      "14\n",
      "506\n",
      "35\n",
      "0\n",
      "283    198.0\n",
      "225    307.0\n",
      "369    666.0\n",
      "370    666.0\n",
      "371    666.0\n",
      "Name: TAX, dtype: float64\n"
     ]
    }
   ],
   "source": [
    "boston['MEDV'] = bdata.target\n",
    "\n",
    "#1.1.1\n",
    "print(len(boston.columns))\n",
    "print(len(boston.index))\n",
    "\n",
    "#1.1.2\n",
    "char_river_neighborhoods = boston.loc[boston['CHAS'] == 1]\n",
    "print(len(char_river_neighborhoods))\n",
    "\n",
    "#1.1.3\n",
    "print (np.count_nonzero(boston.isnull().values))\n",
    "\n",
    "#1.1.4\n",
    "sorted_medv = boston.sort_values('MEDV', ascending=False)\n",
    "print(sorted_medv['TAX'].head(5))"
   ]
  },
  {
   "cell_type": "markdown",
   "metadata": {
    "ein.tags": [
     "worksheet-0"
    ],
    "slideshow": {
     "slide_type": "-"
    }
   },
   "source": [
    "*Provide our answers below:*\n",
    "\n",
    " - 1.1.1: There are 14 variables and 506 observations.\n",
    " - 1.1.2: There are 35 neighborhoods where the tract bounds the Charles River\n",
    " - 1.1.3: There are no missing values in this dataset.\n",
    " - 1.1.4: The property tax rate for the 5 neighborhoods that have the highest median housing price (per \\$10,000) is 198, 307, 666, 666, 666\n"
   ]
  },
  {
   "cell_type": "markdown",
   "metadata": {
    "ein.tags": [
     "worksheet-0"
    ],
    "slideshow": {
     "slide_type": "-"
    }
   },
   "source": [
    "### 1.2: Answer some basic questions\n",
    " - 1.2.1: What is the median housing price in Boston's most expensive neighborhood?\n",
    " - 1.2.2: How many neighborhoods have, on average, less than 5 rooms per dwelling?\n",
    " - 1.2.3: What is the property tax rate in the most expensive neighborhood that is also adjacent to the Charles River?\n",
    " - 1.2.4: What is the crime rate in the neighborhood with the highest median housing price? \n",
    " - 1.2.5: What is the crime rate in the neighborhood with the lowest median housing price?"
   ]
  },
  {
   "cell_type": "code",
   "execution_count": 17,
   "metadata": {
    "autoscroll": "json-false",
    "collapsed": false,
    "ein.tags": [
     "worksheet-0"
    ],
    "slideshow": {
     "slide_type": "-"
    }
   },
   "outputs": [
    {
     "name": "stdout",
     "output_type": "stream",
     "text": [
      "283    50.0\n",
      "Name: MEDV, dtype: float64\n",
      "15\n",
      "372    666.0\n",
      "Name: TAX, dtype: float64\n",
      "283    0.01501\n",
      "Name: CRIM, dtype: float64\n",
      "398    38.3518\n",
      "Name: CRIM, dtype: float64\n"
     ]
    }
   ],
   "source": [
    "#1.2.1\n",
    "print(sorted_medv['MEDV'].head(1))\n",
    "\n",
    "#1.2.2\n",
    "five_rooms = boston.loc[boston['RM'] < 5]\n",
    "print(len(five_rooms))\n",
    "\n",
    "#1.2.3\n",
    "expensive_sorted = char_river_neighborhoods.sort_values('MEDV', ascending=False)\n",
    "print(expensive_sorted.TAX.head(1))\n",
    "\n",
    "#1.2.4\n",
    "print(sorted_medv['CRIM'].head(1))\n",
    "\n",
    "#1.2.5\n",
    "sorted_desc = boston.sort_values('MEDV', ascending=True)\n",
    "print(sorted_desc['CRIM'].head(1))"
   ]
  },
  {
   "cell_type": "markdown",
   "metadata": {
    "ein.tags": [
     "worksheet-0"
    ],
    "slideshow": {
     "slide_type": "-"
    }
   },
   "source": [
    "*Provide our answers below:*\n",
    "\n",
    " - 1.2.1: The median housing price in Boston's most expensive neighborhood is \\$50,000.\n",
    " - 1.2.2: There are 15 neighborhoods that have, on average, less than 5 rooms per dwelling.\n",
    " - 1.2.3: The property tax rate in the most expensive neighbhorhood that is also adjacent to the Charles River is $666 per \\$10,000.\n",
    " - 1.2.4: The crime rate in the neighborhood with the highest median housing price is 0.01501 per capita.\n",
    " - 1.2.5: The crime rate in the neighborhood with the lowest median housing price is 38.3518 per capita."
   ]
  },
  {
   "cell_type": "markdown",
   "metadata": {
    "ein.tags": [
     "worksheet-0"
    ],
    "slideshow": {
     "slide_type": "-"
    }
   },
   "source": [
    "### 1.3: Summary statistics\n",
    "\n",
    "Create a clean, organized table that shows just the following information (no more, no less) for each variable in the dataset. Note that your table should have K rows (one for each variable) and 7 columns, ordered as below:\n",
    " - The name of the variable\n",
    " - The number of observations with non-missing values\n",
    " - The mean of the variable\n",
    " - The standard deviation of the variable\n",
    " - The minimum value of the variable\n",
    " - The median of the variable\n",
    " - The maximum value of the variable"
   ]
  },
  {
   "cell_type": "code",
   "execution_count": 18,
   "metadata": {
    "autoscroll": "json-false",
    "collapsed": false,
    "ein.tags": [
     "worksheet-0"
    ],
    "slideshow": {
     "slide_type": "-"
    }
   },
   "outputs": [
    {
     "data": {
      "text/html": [
       "<div>\n",
       "<table border=\"1\" class=\"dataframe\">\n",
       "  <thead>\n",
       "    <tr style=\"text-align: right;\">\n",
       "      <th></th>\n",
       "      <th>Name</th>\n",
       "      <th>Non-Missing Values</th>\n",
       "      <th>Mean</th>\n",
       "      <th>Standard Deviation</th>\n",
       "      <th>Minimum</th>\n",
       "      <th>Median</th>\n",
       "      <th>Maximum</th>\n",
       "    </tr>\n",
       "  </thead>\n",
       "  <tbody>\n",
       "    <tr>\n",
       "      <th>0</th>\n",
       "      <td>CRIM</td>\n",
       "      <td>506</td>\n",
       "      <td>3.593761</td>\n",
       "      <td>8.596783</td>\n",
       "      <td>0.00632</td>\n",
       "      <td>0.25651</td>\n",
       "      <td>88.9762</td>\n",
       "    </tr>\n",
       "    <tr>\n",
       "      <th>1</th>\n",
       "      <td>ZN</td>\n",
       "      <td>506</td>\n",
       "      <td>11.363636</td>\n",
       "      <td>23.322453</td>\n",
       "      <td>0.00000</td>\n",
       "      <td>0.00000</td>\n",
       "      <td>100.0000</td>\n",
       "    </tr>\n",
       "    <tr>\n",
       "      <th>2</th>\n",
       "      <td>INDUS</td>\n",
       "      <td>506</td>\n",
       "      <td>11.136779</td>\n",
       "      <td>6.860353</td>\n",
       "      <td>0.46000</td>\n",
       "      <td>9.69000</td>\n",
       "      <td>27.7400</td>\n",
       "    </tr>\n",
       "    <tr>\n",
       "      <th>3</th>\n",
       "      <td>CHAS</td>\n",
       "      <td>506</td>\n",
       "      <td>0.069170</td>\n",
       "      <td>0.253994</td>\n",
       "      <td>0.00000</td>\n",
       "      <td>0.00000</td>\n",
       "      <td>1.0000</td>\n",
       "    </tr>\n",
       "    <tr>\n",
       "      <th>4</th>\n",
       "      <td>NOX</td>\n",
       "      <td>506</td>\n",
       "      <td>0.554695</td>\n",
       "      <td>0.115878</td>\n",
       "      <td>0.38500</td>\n",
       "      <td>0.53800</td>\n",
       "      <td>0.8710</td>\n",
       "    </tr>\n",
       "    <tr>\n",
       "      <th>5</th>\n",
       "      <td>RM</td>\n",
       "      <td>506</td>\n",
       "      <td>6.284634</td>\n",
       "      <td>0.702617</td>\n",
       "      <td>3.56100</td>\n",
       "      <td>6.20850</td>\n",
       "      <td>8.7800</td>\n",
       "    </tr>\n",
       "    <tr>\n",
       "      <th>6</th>\n",
       "      <td>AGE</td>\n",
       "      <td>506</td>\n",
       "      <td>68.574901</td>\n",
       "      <td>28.148861</td>\n",
       "      <td>2.90000</td>\n",
       "      <td>77.50000</td>\n",
       "      <td>100.0000</td>\n",
       "    </tr>\n",
       "    <tr>\n",
       "      <th>7</th>\n",
       "      <td>DIS</td>\n",
       "      <td>506</td>\n",
       "      <td>3.795043</td>\n",
       "      <td>2.105710</td>\n",
       "      <td>1.12960</td>\n",
       "      <td>3.20745</td>\n",
       "      <td>12.1265</td>\n",
       "    </tr>\n",
       "    <tr>\n",
       "      <th>8</th>\n",
       "      <td>RAD</td>\n",
       "      <td>506</td>\n",
       "      <td>9.549407</td>\n",
       "      <td>8.707259</td>\n",
       "      <td>1.00000</td>\n",
       "      <td>5.00000</td>\n",
       "      <td>24.0000</td>\n",
       "    </tr>\n",
       "    <tr>\n",
       "      <th>9</th>\n",
       "      <td>TAX</td>\n",
       "      <td>506</td>\n",
       "      <td>408.237154</td>\n",
       "      <td>168.537116</td>\n",
       "      <td>187.00000</td>\n",
       "      <td>330.00000</td>\n",
       "      <td>711.0000</td>\n",
       "    </tr>\n",
       "    <tr>\n",
       "      <th>10</th>\n",
       "      <td>PTRATIO</td>\n",
       "      <td>506</td>\n",
       "      <td>18.455534</td>\n",
       "      <td>2.164946</td>\n",
       "      <td>12.60000</td>\n",
       "      <td>19.05000</td>\n",
       "      <td>22.0000</td>\n",
       "    </tr>\n",
       "    <tr>\n",
       "      <th>11</th>\n",
       "      <td>B</td>\n",
       "      <td>506</td>\n",
       "      <td>356.674032</td>\n",
       "      <td>91.294864</td>\n",
       "      <td>0.32000</td>\n",
       "      <td>391.44000</td>\n",
       "      <td>396.9000</td>\n",
       "    </tr>\n",
       "    <tr>\n",
       "      <th>12</th>\n",
       "      <td>LSTAT</td>\n",
       "      <td>506</td>\n",
       "      <td>12.653063</td>\n",
       "      <td>7.141062</td>\n",
       "      <td>1.73000</td>\n",
       "      <td>11.36000</td>\n",
       "      <td>37.9700</td>\n",
       "    </tr>\n",
       "    <tr>\n",
       "      <th>13</th>\n",
       "      <td>MEDV</td>\n",
       "      <td>506</td>\n",
       "      <td>22.532806</td>\n",
       "      <td>9.197104</td>\n",
       "      <td>5.00000</td>\n",
       "      <td>21.20000</td>\n",
       "      <td>50.0000</td>\n",
       "    </tr>\n",
       "  </tbody>\n",
       "</table>\n",
       "</div>"
      ],
      "text/plain": [
       "       Name  Non-Missing Values        Mean  Standard Deviation    Minimum  \\\n",
       "0      CRIM                 506    3.593761            8.596783    0.00632   \n",
       "1        ZN                 506   11.363636           23.322453    0.00000   \n",
       "2     INDUS                 506   11.136779            6.860353    0.46000   \n",
       "3      CHAS                 506    0.069170            0.253994    0.00000   \n",
       "4       NOX                 506    0.554695            0.115878    0.38500   \n",
       "5        RM                 506    6.284634            0.702617    3.56100   \n",
       "6       AGE                 506   68.574901           28.148861    2.90000   \n",
       "7       DIS                 506    3.795043            2.105710    1.12960   \n",
       "8       RAD                 506    9.549407            8.707259    1.00000   \n",
       "9       TAX                 506  408.237154          168.537116  187.00000   \n",
       "10  PTRATIO                 506   18.455534            2.164946   12.60000   \n",
       "11        B                 506  356.674032           91.294864    0.32000   \n",
       "12    LSTAT                 506   12.653063            7.141062    1.73000   \n",
       "13     MEDV                 506   22.532806            9.197104    5.00000   \n",
       "\n",
       "       Median   Maximum  \n",
       "0     0.25651   88.9762  \n",
       "1     0.00000  100.0000  \n",
       "2     9.69000   27.7400  \n",
       "3     0.00000    1.0000  \n",
       "4     0.53800    0.8710  \n",
       "5     6.20850    8.7800  \n",
       "6    77.50000  100.0000  \n",
       "7     3.20745   12.1265  \n",
       "8     5.00000   24.0000  \n",
       "9   330.00000  711.0000  \n",
       "10   19.05000   22.0000  \n",
       "11  391.44000  396.9000  \n",
       "12   11.36000   37.9700  \n",
       "13   21.20000   50.0000  "
      ]
     },
     "execution_count": 18,
     "metadata": {},
     "output_type": "execute_result"
    }
   ],
   "source": [
    "nonmissing = boston.notnull().sum()\n",
    "mean = boston.mean()\n",
    "standard_deviation = boston.std(axis=0)\n",
    "minimum = boston.min()\n",
    "median = boston.median()\n",
    "maximum = boston.max()\n",
    "\n",
    "summary = pd.concat([nonmissing, mean, standard_deviation, minimum, median, maximum], axis=1).reset_index()\n",
    "summary.columns = ['Name', 'Non-Missing Values', 'Mean', 'Standard Deviation', 'Minimum', 'Median', 'Maximum']\n",
    "summary"
   ]
  },
  {
   "cell_type": "markdown",
   "metadata": {
    "ein.tags": [
     "worksheet-0"
    ],
    "slideshow": {
     "slide_type": "-"
    }
   },
   "source": [
    "### 1.4 Simple statistical tests\n",
    "\n",
    "Using a t-test, compare the median house value in locations that are adjacent to the Charles River to locations that are not adjacent to the Charles River. Do you reject the null hypothesis that prices are equivalent?"
   ]
  },
  {
   "cell_type": "code",
   "execution_count": 19,
   "metadata": {
    "autoscroll": "json-false",
    "collapsed": false,
    "ein.tags": [
     "worksheet-0"
    ],
    "slideshow": {
     "slide_type": "-"
    }
   },
   "outputs": [
    {
     "data": {
      "text/plain": [
       "Ttest_indResult(statistic=3.9964374660905091, pvalue=7.3906231705199048e-05)"
      ]
     },
     "execution_count": 19,
     "metadata": {},
     "output_type": "execute_result"
    }
   ],
   "source": [
    "adjacent = boston[boston.CHAS == 1].MEDV\n",
    "not_adjacent = boston[boston.CHAS == 0].MEDV\n",
    "sp.stats.ttest_ind(adjacent, not_adjacent)"
   ]
  },
  {
   "cell_type": "markdown",
   "metadata": {
    "ein.tags": [
     "worksheet-0"
    ],
    "slideshow": {
     "slide_type": "-"
    }
   },
   "source": [
    "We calculated a p-value of 7.391 x 10^-5. This is less than alpha (which we can take to be 0.05), so we reject the null hypothesis that prices are equivalent."
   ]
  },
  {
   "cell_type": "markdown",
   "metadata": {
    "ein.tags": [
     "worksheet-0"
    ],
    "slideshow": {
     "slide_type": "-"
    }
   },
   "source": [
    "---\n",
    "\n",
    "## Part 2: Histograms and Scatterplots\n",
    "\n",
    "\n",
    "### 2.1: Histogram of housing prices\n",
    "\n",
    "Below you will find some very basic code to make a very basic histogram of median housing prices (the \"target\" variable) for your dataset.  Your first task is to make this graph look pretty by doing the following:\n",
    "\n",
    "1. Add appropriate labels to the x and y axes, make sure to include units\n",
    "2. Change the bin width on the histogram to be $1000\n",
    "3. Remove the axes on the top and right side of the plot window\n",
    "4. Change the color of the bars to be green, and remove the black borders from the bars\n"
   ]
  },
  {
   "cell_type": "code",
   "execution_count": 20,
   "metadata": {
    "autoscroll": "json-false",
    "collapsed": false,
    "ein.tags": [
     "worksheet-0"
    ],
    "slideshow": {
     "slide_type": "-"
    }
   },
   "outputs": [
    {
     "data": {
      "image/png": "[encoded data removed]",
      "text/plain": [
       "<matplotlib.figure.Figure at 0x113f75390>"
      ]
     },
     "metadata": {},
     "output_type": "display_data"
    }
   ],
   "source": [
    "# prepare IPython to work with matplotlib and import the library to something convenient\n",
    "# %matplotlib inline  \n",
    "import matplotlib.pyplot as plt  \n",
    "\n",
    "# 2.1.2, #2.1.4\n",
    "plt.hist(bdata.target, bins = 50, color='green', lw=0)\n",
    "plt.xlim(xmin=0)\n",
    "plt.title('Frequency of Housing Prices')\n",
    "\n",
    "#2.1.1\n",
    "plt.xlabel('Median Housing Value (in $1,000s)')\n",
    "plt.ylabel('Count of Neighborhoods')\n",
    "\n",
    "#2.1.3\n",
    "plt.subplot().spines['top'].set_visible(False)\n",
    "plt.subplot().spines['right'].set_visible(False)\n",
    "plt.tick_params(\n",
    "    axis='x',          \n",
    "    bottom='on',      \n",
    "    top='off')\n",
    "plt.tick_params(\n",
    "    axis='y',          \n",
    "    bottom='on',      \n",
    "    top='off',\n",
    "    right = \"off\")\n",
    "\n",
    "plt.show()"
   ]
  },
  {
   "cell_type": "markdown",
   "metadata": {
    "ein.tags": [
     "worksheet-0"
    ],
    "slideshow": {
     "slide_type": "-"
    }
   },
   "source": [
    "### 2.2: Scatter plot of housing prices and crime\n",
    "\n",
    "Use matplotlib to create a scatter plot that shows the relationship between the median value of the home (y-axis) and the per-capita crime rate (x-axis).  Properly label your axes, and make sure that your graphic looks polished and professional.\n"
   ]
  },
  {
   "cell_type": "code",
   "execution_count": 21,
   "metadata": {
    "autoscroll": "json-false",
    "collapsed": false,
    "ein.tags": [
     "worksheet-0"
    ],
    "slideshow": {
     "slide_type": "-"
    }
   },
   "outputs": [
    {
     "data": {
      "image/png": "[encoded data removed]",
      "text/plain": [
       "<matplotlib.figure.Figure at 0x11742e908>"
      ]
     },
     "metadata": {},
     "output_type": "display_data"
    },
    {
     "name": "stdout",
     "output_type": "stream",
     "text": [
      "Correlation Coefficient: -0.385831689884\n"
     ]
    }
   ],
   "source": [
    "plt.scatter(boston['CRIM'], boston['MEDV'], alpha=0.4)\n",
    "\n",
    "plt.xlabel('Crime Rate Per Capita')\n",
    "plt.ylabel('Median Housing Value (in $1,000s)')\n",
    "\n",
    "plt.subplot().spines['top'].set_visible(False)\n",
    "plt.subplot().spines['right'].set_visible(False)\n",
    "plt.tick_params(\n",
    "    axis='x',          \n",
    "    bottom='on',      \n",
    "    top='off')\n",
    "plt.tick_params(\n",
    "    axis='y',          \n",
    "    bottom='on',      \n",
    "    top='off',\n",
    "    right = \"off\")\n",
    "\n",
    "plt.xlim(xmin = -2)\n",
    "\n",
    "plt.show()\n",
    "r = np.corrcoef(boston['MEDV'], boston['CRIM'])\n",
    "print('Correlation Coefficient: ' + str(r[0,1]))"
   ]
  },
  {
   "cell_type": "markdown",
   "metadata": {
    "ein.tags": [
     "worksheet-0"
    ],
    "slideshow": {
     "slide_type": "-"
    }
   },
   "source": [
    "### 2.3: Interpret\n",
    "\n",
    "What do you observe in the above scatter plot? Does there appear to be a relationship between crime rates and housing prices in Boston? Calculate the correlation between these two variables. Do you think this relationship is causal, or just a correlation? Justify your position."
   ]
  },
  {
   "cell_type": "markdown",
   "metadata": {
    "ein.tags": [
     "worksheet-0"
    ],
    "slideshow": {
     "slide_type": "-"
    }
   },
   "source": [
    "From calculating the correlation coefficient, there seems to be a slight negative correlation between crime rates and housing prices (as median housing value decreases, in some cases the crime rate increases). This is also something we can view from the scatterplot above. However, since the correlation coefficient is not close to -1 or +1, we cannot say that the two are strongly correlated.\n",
    "\n",
    "I don't think that the relationship is causal. Especially since we calculated a low correlation, I do not believe that one causes the other (for example, a low median housing value does not always mean the crime rate per capita increases). I believe that there are some other confounding variables that accounts for the slight correlation. "
   ]
  },
  {
   "cell_type": "markdown",
   "metadata": {
    "ein.tags": [
     "worksheet-0"
    ],
    "slideshow": {
     "slide_type": "-"
    }
   },
   "source": [
    "### 2.4 Correlation Matrix\n",
    "\n",
    "Calculate the correlation of every pair of variables in the dataset. Create a *K* x *K* matrix where the value in the (*i*,*j*) cell is the correlation between the *i*th and *j*th variable. Show off your skills by coloring the cell so that large positive correlations appear green and large negative correlations appear green (use a gradient to make this pretty). What two variables appear to me most positively and negatively correlated?"
   ]
  },
  {
   "cell_type": "code",
   "execution_count": 30,
   "metadata": {
    "autoscroll": "json-false",
    "collapsed": false,
    "ein.tags": [
     "worksheet-0"
    ],
    "slideshow": {
     "slide_type": "-"
    }
   },
   "outputs": [
    {
     "data": {
      "image/png": "[encoded data removed]",
      "text/plain": [
       "<matplotlib.figure.Figure at 0x113f84470>"
      ]
     },
     "metadata": {},
     "output_type": "display_data"
    }
   ],
   "source": [
    "from matplotlib.colors import LinearSegmentedColormap\n",
    "\n",
    "correlation = boston.corr()\n",
    "gradient = LinearSegmentedColormap.from_list('mycmap', ['red', 'white', 'green'])\n",
    "            \n",
    "fig, ax = plt.subplots()\n",
    "\n",
    "cormatrix = ax.pcolor(correlation, cmap = gradient)\n",
    "\n",
    "#Made the matrix bigger to fit the axis labels\n",
    "fig = plt.gcf()\n",
    "fig.set_size_inches(9, 9)\n",
    "\n",
    "names = boston.columns\n",
    "ax.set_xticklabels(names)\n",
    "ax.set_yticklabels(names)\n",
    "\n",
    "#So all labels will show\n",
    "ax.set_xticks(np.arange(14))\n",
    "ax.set_yticks(np.arange(14))\n",
    "\n",
    "plt.tick_params(\n",
    "    axis='x',          \n",
    "    bottom='on',      \n",
    "    top='off')\n",
    "plt.tick_params(\n",
    "    axis='y',          \n",
    "    bottom='on',      \n",
    "    top='off',\n",
    "    right = \"off\")\n",
    "\n",
    "plt.title('Correlation of Variables Matrix')\n",
    "\n",
    "plt.show(cormatrix)"
   ]
  },
  {
   "cell_type": "markdown",
   "metadata": {
    "ein.tags": [
     "worksheet-0"
    ],
    "slideshow": {
     "slide_type": "-"
    }
   },
   "source": [
    "From looking at this matrix, the two variables that appear to be most positively correlated are full-value property-tax rate per $10,000(TAX) and index of accessibility to radial highways(RAD). These two variables produced the darkest green box which shows a strong positive correlation. The two variables that appear to be most negatively correlated are weighted distances to five Boston employment centres(DIS) and nitric oxides concentration (parts per 10 million)(NOX), they have the darkest red box which shows a strong negative correlation.\n",
    "\n",
    "Note: I assumed that there was a typo in the instructions and that we were supposed to go from red to green instead of green to green since we were asked to say which variables were most positively AND negatively correlated."
   ]
  },
  {
   "cell_type": "markdown",
   "metadata": {
    "ein.tags": [
     "worksheet-0"
    ],
    "slideshow": {
     "slide_type": "-"
    }
   },
   "source": [
    "### 2.5 Create your own (creative and effective) visualization\n",
    "\n",
    "Use another type of graph or chart to illustrate an interesting pattern in the data.  Be creative in your visualization, and make sure to produce a \"publication-quality\" graph.  Points will be given for useful and creative graphs; points will be deducted for confusing issues like unlabeled axes.  If you're new to data visualization, [this guide](http://pubs.aeaweb.org/doi/pdfplus/10.1257/jep.28.1.209) is a good place to start."
   ]
  },
  {
   "cell_type": "code",
   "execution_count": 28,
   "metadata": {
    "autoscroll": "json-false",
    "collapsed": false,
    "ein.tags": [
     "worksheet-0"
    ],
    "slideshow": {
     "slide_type": "-"
    }
   },
   "outputs": [
    {
     "data": {
      "image/png": "[encoded data removed]",
      "text/plain": [
       "<matplotlib.figure.Figure at 0x118583ef0>"
      ]
     },
     "metadata": {},
     "output_type": "display_data"
    }
   ],
   "source": [
    "#I created a visualization to look at the spread of full-value property-tax rate \n",
    "#based on index of accessibility to radical highways.\n",
    "#I only looked at indexes 1.0 to 8.0 because the other ones did not produce boxplots\n",
    "\n",
    "array = []\n",
    "\n",
    "for x in range(1, 9):\n",
    "    r = boston.loc[boston['RAD'] == x].TAX\n",
    "    array.append(r)\n",
    "\n",
    "plt.boxplot(array, 0, '')\n",
    "plt.tick_params(\n",
    "    axis='x',          \n",
    "    bottom='on',      \n",
    "    top='off')\n",
    "plt.tick_params(\n",
    "    axis='y',          \n",
    "    bottom='on',      \n",
    "    top='off',\n",
    "    right = \"off\")\n",
    "        \n",
    "plt.title('Spread of TAX Based on RAD')\n",
    "plt.xlabel('Index of accessibility to radial highways')\n",
    "plt.ylabel('Full-value property-tax rate per $10,000')\n",
    "\n",
    "plt.show()"
   ]
  },
  {
   "cell_type": "code",
   "execution_count": null,
   "metadata": {
    "collapsed": true
   },
   "outputs": [],
   "source": []
  }
 ],
 "metadata": {
  "anaconda-cloud": {},
  "kernelspec": {
   "display_name": "Python [default]",
   "language": "python",
   "name": "python3"
  },
  "language_info": {
   "codemirror_mode": {
    "name": "ipython",
    "version": 3
   },
   "file_extension": ".py",
   "mimetype": "text/x-python",
   "name": "python",
   "nbconvert_exporter": "python",
   "pygments_lexer": "ipython3",
   "version": "3.5.2"
  },
  "name": "INFO371-PS1.ipynb"
 },
 "nbformat": 4,
 "nbformat_minor": 0
}
